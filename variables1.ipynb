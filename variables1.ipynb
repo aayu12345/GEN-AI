{
  "nbformat": 4,
  "nbformat_minor": 0,
  "metadata": {
    "colab": {
      "provenance": []
    },
    "kernelspec": {
      "name": "python3",
      "display_name": "Python 3"
    },
    "language_info": {
      "name": "python"
    }
  },
  "cells": [
    {
      "cell_type": "markdown",
      "source": [
        "### Variables :\n",
        "Variables are fundamental elements in programming used to store data that can be referenced and manipulated in a program . In python , variables are created when you assign a value to them, and they do not need explicit declaration to reserve menory space . The declaration happens automatically when you assign a value to a variable\n",
        "\n",
        "What you will learn ?\n",
        "  * Introduction to variables\n",
        "  * Declaring and assigning variable\n",
        "  * Naming conventions\n",
        "  * Understanding variables type\n",
        "  * type checking and conversion\n",
        "  * Dynamic typing\n",
        "  * Practical example and Common Errors\n",
        "\n"
      ],
      "metadata": {
        "id": "k0iceKe8llLh"
      }
    },
    {
      "cell_type": "code",
      "source": [
        "a=100"
      ],
      "metadata": {
        "id": "DIWktvEUlmmL"
      },
      "execution_count": 1,
      "outputs": []
    },
    {
      "cell_type": "markdown",
      "source": [
        "Declaring and assigning variables"
      ],
      "metadata": {
        "id": "oivhhHTelw95"
      }
    },
    {
      "cell_type": "code",
      "source": [
        "# Declaring and assigning variables\n",
        "name=\"Ayush Sriavastava\"\n",
        "height=5.11\n",
        "age=21\n",
        "is_Student=True\n",
        "\n",
        "##Printing the variables\n",
        "\n",
        "print(\"age: \",age)\n",
        "print(\"name: \", name)"
      ],
      "metadata": {
        "colab": {
          "base_uri": "https://localhost:8080/"
        },
        "id": "5KoL6JBDltOk",
        "outputId": "fb5a66f4-ff03-4e08-fc84-d9e8c368f886"
      },
      "execution_count": 2,
      "outputs": [
        {
          "output_type": "stream",
          "name": "stdout",
          "text": [
            "age:  21\n",
            "name:  Ayush Sriavastava\n"
          ]
        }
      ]
    },
    {
      "cell_type": "markdown",
      "source": [
        "### NAMING CONVENTION\n",
        "\n",
        "* Variable names should be descriptive\n",
        "* They must always start with a letter or an '_' and contains letter, numbers ,and underscores\n",
        "* Variables names case sensitive\n"
      ],
      "metadata": {
        "id": "UrK8wQI_mQTm"
      }
    },
    {
      "cell_type": "code",
      "source": [
        "## INvalid variable names\n",
        "first-name=\"Ayush\"\n",
        "2name=\"srivastsva\"\n"
      ],
      "metadata": {
        "colab": {
          "base_uri": "https://localhost:8080/",
          "height": 106
        },
        "id": "kmKv_oVKmIpq",
        "outputId": "7fd86b6c-dc75-4319-fded-f7503752f26a"
      },
      "execution_count": 4,
      "outputs": [
        {
          "output_type": "error",
          "ename": "SyntaxError",
          "evalue": "invalid decimal literal (<ipython-input-4-8a4ee5329e44>, line 3)",
          "traceback": [
            "\u001b[0;36m  File \u001b[0;32m\"<ipython-input-4-8a4ee5329e44>\"\u001b[0;36m, line \u001b[0;32m3\u001b[0m\n\u001b[0;31m    2name=\"srivastsva\"\u001b[0m\n\u001b[0m    ^\u001b[0m\n\u001b[0;31mSyntaxError\u001b[0m\u001b[0;31m:\u001b[0m invalid decimal literal\n"
          ]
        }
      ]
    },
    {
      "cell_type": "markdown",
      "source": [
        "Understanding variable types\n",
        "\n",
        "Python is dynamically typed , type of the variable is determined at a runtime"
      ],
      "metadata": {
        "id": "YuG761hVmhsz"
      }
    },
    {
      "cell_type": "code",
      "source": [
        "age=21 # int\n",
        "height=5.11 # float\n",
        "name=\"Ayush\"# str\n",
        "\n",
        "print(type(age))\n",
        "print(type(height))\n",
        "print(type(name))"
      ],
      "metadata": {
        "colab": {
          "base_uri": "https://localhost:8080/"
        },
        "id": "ACuVcz2bmOXd",
        "outputId": "eb4621f4-eda7-465d-ab6c-579c4eb565fb"
      },
      "execution_count": 5,
      "outputs": [
        {
          "output_type": "stream",
          "name": "stdout",
          "text": [
            "<class 'int'>\n",
            "<class 'float'>\n",
            "<class 'str'>\n"
          ]
        }
      ]
    },
    {
      "cell_type": "markdown",
      "source": [
        "### TYPE CONVERSION"
      ],
      "metadata": {
        "id": "4ZL4OhmLmohV"
      }
    },
    {
      "cell_type": "code",
      "source": [
        "age=21\n",
        "print(type(age))\n",
        "age_str=str(age)\n",
        "print(age_str)\n",
        "print(type(age_str))"
      ],
      "metadata": {
        "colab": {
          "base_uri": "https://localhost:8080/"
        },
        "id": "9BzZv7HomgMe",
        "outputId": "2dcfc138-0fbb-45bc-b7f8-99a7beca23a5"
      },
      "execution_count": 6,
      "outputs": [
        {
          "output_type": "stream",
          "name": "stdout",
          "text": [
            "<class 'int'>\n",
            "21\n",
            "<class 'str'>\n"
          ]
        }
      ]
    },
    {
      "cell_type": "code",
      "source": [
        "##here you will get error\n",
        "name=\"AYUSH\"\n",
        "int(name)"
      ],
      "metadata": {
        "colab": {
          "base_uri": "https://localhost:8080/",
          "height": 176
        },
        "id": "TG_Jij1Km1J8",
        "outputId": "464e5d9f-5291-44e9-c9e9-4d24f35c898f"
      },
      "execution_count": 7,
      "outputs": [
        {
          "output_type": "error",
          "ename": "ValueError",
          "evalue": "invalid literal for int() with base 10: 'AYUSH'",
          "traceback": [
            "\u001b[0;31m---------------------------------------------------------------------------\u001b[0m",
            "\u001b[0;31mValueError\u001b[0m                                Traceback (most recent call last)",
            "\u001b[0;32m<ipython-input-7-737545e9b753>\u001b[0m in \u001b[0;36m<cell line: 3>\u001b[0;34m()\u001b[0m\n\u001b[1;32m      1\u001b[0m \u001b[0;31m##here you will get error\u001b[0m\u001b[0;34m\u001b[0m\u001b[0;34m\u001b[0m\u001b[0m\n\u001b[1;32m      2\u001b[0m \u001b[0mname\u001b[0m\u001b[0;34m=\u001b[0m\u001b[0;34m\"AYUSH\"\u001b[0m\u001b[0;34m\u001b[0m\u001b[0;34m\u001b[0m\u001b[0m\n\u001b[0;32m----> 3\u001b[0;31m \u001b[0mint\u001b[0m\u001b[0;34m(\u001b[0m\u001b[0mname\u001b[0m\u001b[0;34m)\u001b[0m\u001b[0;34m\u001b[0m\u001b[0;34m\u001b[0m\u001b[0m\n\u001b[0m",
            "\u001b[0;31mValueError\u001b[0m: invalid literal for int() with base 10: 'AYUSH'"
          ]
        }
      ]
    },
    {
      "cell_type": "markdown",
      "source": [
        "DYNAMIC TYPING : Python allows the type of variable to change as the program executes"
      ],
      "metadata": {
        "id": "fmw2SU4KnBWh"
      }
    },
    {
      "cell_type": "code",
      "source": [
        "var=\"Ayush\"\n",
        "print(var,type(var))\n",
        "var=13\n",
        "print(var,type(var))"
      ],
      "metadata": {
        "colab": {
          "base_uri": "https://localhost:8080/"
        },
        "id": "ZFN1DL03m5PB",
        "outputId": "7cfa7052-5a96-4fb5-da96-9aae9ec6d11d"
      },
      "execution_count": 8,
      "outputs": [
        {
          "output_type": "stream",
          "name": "stdout",
          "text": [
            "Ayush <class 'str'>\n",
            "13 <class 'int'>\n"
          ]
        }
      ]
    },
    {
      "cell_type": "markdown",
      "source": [
        "### INPUT"
      ],
      "metadata": {
        "id": "_sDlyC5JnOHy"
      }
    },
    {
      "cell_type": "code",
      "source": [
        "gae=input(\"What is the age\")\n",
        "print(gae,type(gae))"
      ],
      "metadata": {
        "colab": {
          "base_uri": "https://localhost:8080/"
        },
        "id": "h_u5xUs4nHNc",
        "outputId": "ac80cdad-2dd3-4f22-8290-18f0af33235e"
      },
      "execution_count": 9,
      "outputs": [
        {
          "output_type": "stream",
          "name": "stdout",
          "text": [
            "What is the age23\n",
            "23 <class 'str'>\n"
          ]
        }
      ]
    },
    {
      "cell_type": "code",
      "source": [
        "gae=int(input(\"What is the age\"))\n",
        "print(gae,type(gae))"
      ],
      "metadata": {
        "colab": {
          "base_uri": "https://localhost:8080/"
        },
        "id": "HzMiC3mhna7n",
        "outputId": "41d5a897-76cf-4772-df45-7fe545e0bbc8"
      },
      "execution_count": 10,
      "outputs": [
        {
          "output_type": "stream",
          "name": "stdout",
          "text": [
            "What is the age45\n",
            "45 <class 'int'>\n"
          ]
        }
      ]
    },
    {
      "cell_type": "markdown",
      "source": [],
      "metadata": {
        "id": "SOFqMYe8nMSs"
      }
    }
  ]
}