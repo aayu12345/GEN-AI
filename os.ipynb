{
  "nbformat": 4,
  "nbformat_minor": 0,
  "metadata": {
    "colab": {
      "provenance": []
    },
    "kernelspec": {
      "name": "python3",
      "display_name": "Python 3"
    },
    "language_info": {
      "name": "python"
    }
  },
  "cells": [
    {
      "cell_type": "code",
      "execution_count": 1,
      "metadata": {
        "colab": {
          "base_uri": "https://localhost:8080/"
        },
        "id": "dxk2laaFbLPM",
        "outputId": "b1f2bbff-f8f0-49f6-dc27-0f25ab8fec2f"
      },
      "outputs": [
        {
          "output_type": "stream",
          "name": "stdout",
          "text": [
            "folder/file.txt\n"
          ]
        }
      ],
      "source": [
        "###joining paths\n",
        "import os\n",
        "dir_name=\"folder\"\n",
        "file_name=\"file.txt\"\n",
        "full_path=os.path.join(dir_name,file_name)\n",
        "print(full_path)\n"
      ]
    },
    {
      "cell_type": "code",
      "source": [
        "path='example.txt'\n",
        "if os.path.exists(path):\n",
        "  print(f\"The path'{path}' exists\")\n",
        "\n",
        "else:\n",
        "  print(f\"The path '{path}' does not exists\")\n"
      ],
      "metadata": {
        "colab": {
          "base_uri": "https://localhost:8080/"
        },
        "id": "xppz4pqVbuqJ",
        "outputId": "a915e78a-bb63-4e09-8d90-33ee296ea3b5"
      },
      "execution_count": 2,
      "outputs": [
        {
          "output_type": "stream",
          "name": "stdout",
          "text": [
            "The path 'example.txt' does not exists\n"
          ]
        }
      ]
    },
    {
      "cell_type": "code",
      "source": [
        "## checking it is file or directory\n",
        "path='example.txt'\n",
        "if os.path.isfile(path):\n",
        "  print(f\"The path'{path}' is a file\")\n",
        "\n",
        "elif os.path.isdir(path):\n",
        "  print(f\"The path '{path}' is a directory\")\n",
        "\n",
        "else:\n",
        "  print(f\"The path '{path}' is neither a file nor a directory\")"
      ],
      "metadata": {
        "colab": {
          "base_uri": "https://localhost:8080/"
        },
        "id": "regNyuQrczAV",
        "outputId": "9c98bbb4-ad7b-4c4b-e764-8859b17de138"
      },
      "execution_count": 3,
      "outputs": [
        {
          "output_type": "stream",
          "name": "stdout",
          "text": [
            "The path 'example.txt' is neither a file nor a directory\n"
          ]
        }
      ]
    },
    {
      "cell_type": "code",
      "source": [],
      "metadata": {
        "id": "8KGh40eMdiyr"
      },
      "execution_count": null,
      "outputs": []
    }
  ]
}