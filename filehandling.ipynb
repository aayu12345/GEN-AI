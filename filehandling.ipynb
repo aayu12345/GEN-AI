{
  "nbformat": 4,
  "nbformat_minor": 0,
  "metadata": {
    "colab": {
      "provenance": []
    },
    "kernelspec": {
      "name": "python3",
      "display_name": "Python 3"
    },
    "language_info": {
      "name": "python"
    }
  },
  "cells": [
    {
      "cell_type": "code",
      "execution_count": 1,
      "metadata": {
        "colab": {
          "base_uri": "https://localhost:8080/"
        },
        "id": "1M-ryYNoLf6v",
        "outputId": "be6d16b2-9b94-4106-8bdc-50436612b7ab"
      },
      "outputs": [
        {
          "output_type": "stream",
          "name": "stdout",
          "text": [
            "Hello how are you ?\n",
            "I am good\n",
            "My name is Ayush\n",
            "Welcome to the file handling tutorial\n",
            "\n"
          ]
        }
      ],
      "source": [
        "with open('example.txt','r') as file:\n",
        "  content=file.read()\n",
        "  print(content)"
      ]
    },
    {
      "cell_type": "code",
      "source": [
        "## fOR reading line by line\n",
        "with open('example.txt','r')as file:\n",
        "  for line in file:\n",
        "    print(line.strip())\n",
        "    ## strip() removes the newline character\n",
        "\n"
      ],
      "metadata": {
        "colab": {
          "base_uri": "https://localhost:8080/"
        },
        "id": "bfv3_VPsNS0b",
        "outputId": "6eabf535-c833-4898-8058-31e1613db4bb"
      },
      "execution_count": 4,
      "outputs": [
        {
          "output_type": "stream",
          "name": "stdout",
          "text": [
            "Hello how are you ?\n",
            "I am good\n",
            "My name is Ayush\n",
            "Welcome to the file handling tutorial\n"
          ]
        }
      ]
    },
    {
      "cell_type": "code",
      "source": [
        "## writing a file (overwrite)\n",
        "with open('example.txt','w')as file:\n",
        "  file.write('hello world\\n')\n",
        "  file.write('this is a new line')\n"
      ],
      "metadata": {
        "id": "SfeqQ18TNtKX"
      },
      "execution_count": 5,
      "outputs": []
    },
    {
      "cell_type": "code",
      "source": [
        "## write a file without overwriting\n",
        "with open('example.txt','a')as file:\n",
        "  file.write(\"Append operation taking place \\n\")\n"
      ],
      "metadata": {
        "id": "eNjSmKqYO3ex"
      },
      "execution_count": 6,
      "outputs": []
    },
    {
      "cell_type": "code",
      "source": [
        "## writing a list of lines to a file\n",
        "lines=['First line \\n','second line \\n','third line \\n']\n",
        "with open('example.txt','a')as file:\n",
        "  file.writelines(lines)"
      ],
      "metadata": {
        "id": "mFa70npPPWBM"
      },
      "execution_count": 7,
      "outputs": []
    },
    {
      "cell_type": "code",
      "source": [
        "### binary files\n",
        "# writing to a binary file\n",
        "data=b'\\x00\\x01\\x02\\x03'\n",
        "with open('example.bin','wb')as file:\n",
        "  file.write(data)"
      ],
      "metadata": {
        "id": "hvqoCiu_RqFk"
      },
      "execution_count": 8,
      "outputs": []
    },
    {
      "cell_type": "code",
      "source": [
        "## reading a binary file\n",
        "with open('example.bin','rb') as file:\n",
        "  content=file.read()\n",
        "  print(content)"
      ],
      "metadata": {
        "colab": {
          "base_uri": "https://localhost:8080/"
        },
        "id": "kJF2fr8dQIJr",
        "outputId": "b0acc169-6bd7-4ae9-da7d-6f31a25016cb"
      },
      "execution_count": 9,
      "outputs": [
        {
          "output_type": "stream",
          "name": "stdout",
          "text": [
            "b'\\x00\\x01\\x02\\x03'\n"
          ]
        }
      ]
    },
    {
      "cell_type": "code",
      "source": [
        "### read the content from the source text and write to the destination file\n",
        "with open('example.txt','r')as source_file:\n",
        "  content=source_file.read()\n",
        "\n",
        "with open ('destination.txt','w') as destination_file:\n",
        "  destination_file.write(content)"
      ],
      "metadata": {
        "id": "50FkDKdPSHFS"
      },
      "execution_count": 10,
      "outputs": []
    },
    {
      "cell_type": "code",
      "source": [
        "def count_text_file(file_path):\n",
        "  with open(file_path,'r')as file:\n",
        "    lines=file.readlines()\n",
        "    line_count=len(lines)\n",
        "    word_count=sum(len(line.split()) for line in lines)\n",
        "    char_count=sum(len(line) for line in lines)\n",
        "  return line_count,word_count,char_count\n",
        "file_path='example.txt'\n",
        "lines , words,characters= count_text_file(file_path)\n",
        "print(f'lines:{lines} , words:{words} , characters:{characters}')\n"
      ],
      "metadata": {
        "colab": {
          "base_uri": "https://localhost:8080/"
        },
        "id": "ynWYT2X4UqNV",
        "outputId": "37f34686-6e2b-4e9c-fa98-7ef8b2a4f6c6"
      },
      "execution_count": 12,
      "outputs": [
        {
          "output_type": "stream",
          "name": "stdout",
          "text": [
            "lines:5 , words:16 , characters:98\n"
          ]
        }
      ]
    },
    {
      "cell_type": "code",
      "source": [
        "with open('example.txt','w+')as file:\n",
        "  file.write(\"Heloo world\\n\")\n",
        "  file.write(\"this is a new line \\n\")\n",
        "\n",
        "  ## move the file cursor to the beggining\n",
        "  file.seek(0)\n",
        "  ## read the content of the file\n",
        "\n",
        "\n",
        "  content=file.read()\n",
        "  print(content )"
      ],
      "metadata": {
        "colab": {
          "base_uri": "https://localhost:8080/"
        },
        "id": "m9BppH-9WlcS",
        "outputId": "4bfc9007-2c10-4356-a3cc-2972f63a8b01"
      },
      "execution_count": 15,
      "outputs": [
        {
          "output_type": "stream",
          "name": "stdout",
          "text": [
            "Heloo world\n",
            "this is a new line \n",
            "\n"
          ]
        }
      ]
    },
    {
      "cell_type": "code",
      "source": [],
      "metadata": {
        "id": "Tv08c5NEXNas"
      },
      "execution_count": null,
      "outputs": []
    }
  ]
}