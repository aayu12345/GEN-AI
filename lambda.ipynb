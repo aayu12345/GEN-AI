{
  "nbformat": 4,
  "nbformat_minor": 0,
  "metadata": {
    "colab": {
      "provenance": []
    },
    "kernelspec": {
      "name": "python3",
      "display_name": "Python 3"
    },
    "language_info": {
      "name": "python"
    }
  },
  "cells": [
    {
      "cell_type": "code",
      "execution_count": null,
      "metadata": {
        "id": "11czt1ABd5wL"
      },
      "outputs": [],
      "source": []
    },
    {
      "cell_type": "markdown",
      "source": [
        "### Lambda functions in python\n",
        "\n",
        "lambda functions are small anonymous functions defined using the lambda keyword. they can have any number of arguments but only one expression . They are commonly used for short operations or as arguments to higher order functions."
      ],
      "metadata": {
        "id": "x3P1dFQLeCE-"
      }
    },
    {
      "cell_type": "code",
      "source": [
        "def addition(a,b):\n",
        "  return a+b"
      ],
      "metadata": {
        "id": "oVKI57spd_bx"
      },
      "execution_count": 1,
      "outputs": []
    },
    {
      "cell_type": "code",
      "source": [
        "##lambda function\n",
        "addition=lambda a,b:a+b\n",
        "type(addition)"
      ],
      "metadata": {
        "colab": {
          "base_uri": "https://localhost:8080/"
        },
        "id": "xUYulGLyd_mj",
        "outputId": "787f8f61-5a5a-4a35-a637-39e00cedf419"
      },
      "execution_count": 2,
      "outputs": [
        {
          "output_type": "execute_result",
          "data": {
            "text/plain": [
              "function"
            ]
          },
          "metadata": {},
          "execution_count": 2
        }
      ]
    },
    {
      "cell_type": "code",
      "source": [
        "print(addition(5,6))"
      ],
      "metadata": {
        "colab": {
          "base_uri": "https://localhost:8080/"
        },
        "id": "_kn9l8jDd_n1",
        "outputId": "3e3edfaa-5583-4634-ce16-c25f8250cc44"
      },
      "execution_count": 3,
      "outputs": [
        {
          "output_type": "stream",
          "name": "stdout",
          "text": [
            "11\n"
          ]
        }
      ]
    },
    {
      "cell_type": "code",
      "source": [
        "even1=lambda a:a%2==0\n",
        "even1(12)"
      ],
      "metadata": {
        "colab": {
          "base_uri": "https://localhost:8080/"
        },
        "id": "Ir8wnQEmd_sR",
        "outputId": "f8c3dd8a-baf9-453f-ecf1-f2a71df6d4cc"
      },
      "execution_count": 4,
      "outputs": [
        {
          "output_type": "execute_result",
          "data": {
            "text/plain": [
              "True"
            ]
          },
          "metadata": {},
          "execution_count": 4
        }
      ]
    },
    {
      "cell_type": "code",
      "source": [
        "## map() - applies a function to all items in a list\n",
        "numbers=[1,2,3,4,5,6,7]\n",
        "def square(number):\n",
        "  return number**2\n",
        "\n",
        "square(2)\n"
      ],
      "metadata": {
        "colab": {
          "base_uri": "https://localhost:8080/"
        },
        "id": "nNNKy5exd_tk",
        "outputId": "8dbee7fb-05c5-47d4-d97c-bc3485e56859"
      },
      "execution_count": 6,
      "outputs": [
        {
          "output_type": "execute_result",
          "data": {
            "text/plain": [
              "4"
            ]
          },
          "metadata": {},
          "execution_count": 6
        }
      ]
    },
    {
      "cell_type": "code",
      "source": [
        "list(map(lambda x:x**2 , numbers))"
      ],
      "metadata": {
        "colab": {
          "base_uri": "https://localhost:8080/"
        },
        "id": "hQ9MsW8Od_x8",
        "outputId": "4e641c28-b09a-419a-d1b1-6e276343a256"
      },
      "execution_count": 7,
      "outputs": [
        {
          "output_type": "execute_result",
          "data": {
            "text/plain": [
              "[1, 4, 9, 16, 25, 36, 49]"
            ]
          },
          "metadata": {},
          "execution_count": 7
        }
      ]
    },
    {
      "cell_type": "markdown",
      "source": [
        "### the map() Function in python\n",
        "the map() function applies a given function to all items in an input list(or any other iterable) and returns a map object(an iterator). This is particularly used for transforming data in a alist comprehensively."
      ],
      "metadata": {
        "id": "VNzC29fMiVSx"
      }
    },
    {
      "cell_type": "code",
      "source": [
        "def square(x):\n",
        "  return x*x\n",
        "square(10)"
      ],
      "metadata": {
        "colab": {
          "base_uri": "https://localhost:8080/"
        },
        "id": "DF7hgII8d_zN",
        "outputId": "7cf1eac3-b80c-45a6-d76d-2a244ace35a4"
      },
      "execution_count": 8,
      "outputs": [
        {
          "output_type": "execute_result",
          "data": {
            "text/plain": [
              "100"
            ]
          },
          "metadata": {},
          "execution_count": 8
        }
      ]
    },
    {
      "cell_type": "code",
      "source": [
        "numbers1=[1,2,3,4,5,5,7,8]\n",
        "list(map(square,numbers1))"
      ],
      "metadata": {
        "colab": {
          "base_uri": "https://localhost:8080/"
        },
        "id": "PLP33Nt0d_3o",
        "outputId": "35087e03-5387-4d6d-decf-21a9b5b26ac6"
      },
      "execution_count": 10,
      "outputs": [
        {
          "output_type": "execute_result",
          "data": {
            "text/plain": [
              "[1, 4, 9, 16, 25, 25, 49, 64]"
            ]
          },
          "metadata": {},
          "execution_count": 10
        }
      ]
    },
    {
      "cell_type": "markdown",
      "source": [
        "## Lambda function with map"
      ],
      "metadata": {
        "id": "evpuW8ZxjdvT"
      }
    },
    {
      "cell_type": "code",
      "source": [
        "list(map(lambda x:x*x , numbers1))"
      ],
      "metadata": {
        "colab": {
          "base_uri": "https://localhost:8080/"
        },
        "id": "J5PV8H2Id_4-",
        "outputId": "1f8a4b09-c972-4e11-cd42-2dcdf3a02984"
      },
      "execution_count": 11,
      "outputs": [
        {
          "output_type": "execute_result",
          "data": {
            "text/plain": [
              "[1, 4, 9, 16, 25, 25, 49, 64]"
            ]
          },
          "metadata": {},
          "execution_count": 11
        }
      ]
    },
    {
      "cell_type": "markdown",
      "source": [
        "# MAP with multiple iterables"
      ],
      "metadata": {
        "id": "ACuTO0dvkB74"
      }
    },
    {
      "cell_type": "code",
      "source": [
        "numbers2=[4,5,6]\n",
        "numbers3=[1,2,3]\n",
        "added_num=list(map(lambda x,y:x+y,numbers2,numbers3))\n",
        "print(added_num)"
      ],
      "metadata": {
        "colab": {
          "base_uri": "https://localhost:8080/"
        },
        "id": "PJyTGJLUd_9g",
        "outputId": "f5562185-22cb-4575-9bd3-e481bffc6223"
      },
      "execution_count": 13,
      "outputs": [
        {
          "output_type": "stream",
          "name": "stdout",
          "text": [
            "[5, 7, 9]\n"
          ]
        }
      ]
    },
    {
      "cell_type": "code",
      "source": [
        "## map() to convert a list of strings into integers\n",
        "str_num=['1','2','3']\n",
        "int_num=list(map(int,str_num))\n",
        "print(int_num)"
      ],
      "metadata": {
        "colab": {
          "base_uri": "https://localhost:8080/"
        },
        "id": "bMDqr0V1d_-y",
        "outputId": "2d1fc6cc-b56c-4b25-bd53-4e31dfc00920"
      },
      "execution_count": 14,
      "outputs": [
        {
          "output_type": "stream",
          "name": "stdout",
          "text": [
            "[1, 2, 3]\n"
          ]
        }
      ]
    },
    {
      "cell_type": "markdown",
      "source": [
        "### the filter() function in python\n",
        "\n",
        "the filter() function constructs an iterator from elements of an iterable for which a function returns true. it is used to filter out\n",
        "items from a list(or any other iterable) based ona a condition"
      ],
      "metadata": {
        "id": "XAJn6dLJmhrJ"
      }
    },
    {
      "cell_type": "code",
      "source": [
        "lst=[1,2,3,4,5,6,7,8,9]\n",
        "even=list(filter(lambda x:x%2==0,lst))"
      ],
      "metadata": {
        "id": "4gq8uQOBeACw"
      },
      "execution_count": 3,
      "outputs": []
    },
    {
      "cell_type": "code",
      "source": [
        "numbers = [1, 2, 3, 4, 5, 6, 7, 8, 9]\n",
        "greater_than_five = list(filter(lambda x: x > 5, numbers))\n",
        "print(greater_than_five)\n"
      ],
      "metadata": {
        "colab": {
          "base_uri": "https://localhost:8080/"
        },
        "id": "49pmgBNCpZrz",
        "outputId": "d43be58a-cef0-4063-960e-eddeaf53b6a9"
      },
      "execution_count": 1,
      "outputs": [
        {
          "output_type": "stream",
          "name": "stdout",
          "text": [
            "[6, 7, 8, 9]\n"
          ]
        }
      ]
    },
    {
      "cell_type": "markdown",
      "source": [
        "###Conclusion\n",
        "\n",
        "it is commonly used for data cleaning , filtering objects and removing unwnted elements from lists. The filter() function is a poweful tool for creating iterators that filters items out of an iterable based on a function"
      ],
      "metadata": {
        "id": "OAyPLmfXqqZV"
      }
    },
    {
      "cell_type": "code",
      "source": [],
      "metadata": {
        "id": "PbLYiiFqpyHM"
      },
      "execution_count": null,
      "outputs": []
    }
  ]
}