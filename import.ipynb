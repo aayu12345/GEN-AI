{
  "nbformat": 4,
  "nbformat_minor": 0,
  "metadata": {
    "colab": {
      "provenance": []
    },
    "kernelspec": {
      "name": "python3",
      "display_name": "Python 3"
    },
    "language_info": {
      "name": "python"
    }
  },
  "cells": [
    {
      "cell_type": "code",
      "execution_count": 1,
      "metadata": {
        "colab": {
          "base_uri": "https://localhost:8080/"
        },
        "id": "BjDaQt26sjpE",
        "outputId": "d52e7621-4f25-44bf-c03b-f70a940256d6"
      },
      "outputs": [
        {
          "output_type": "execute_result",
          "data": {
            "text/plain": [
              "5.0"
            ]
          },
          "metadata": {},
          "execution_count": 1
        }
      ],
      "source": [
        "import math\n",
        "math.sqrt(25)"
      ]
    },
    {
      "cell_type": "code",
      "source": [
        "from math import sqrt,pi\n",
        "print(sqrt(16))\n",
        "print(pi)"
      ],
      "metadata": {
        "colab": {
          "base_uri": "https://localhost:8080/"
        },
        "id": "XpEWamHNsz8G",
        "outputId": "7105d805-d1a2-4fcf-eff1-5aa948bb4a55"
      },
      "execution_count": 2,
      "outputs": [
        {
          "output_type": "stream",
          "name": "stdout",
          "text": [
            "4.0\n",
            "3.141592653589793\n"
          ]
        }
      ]
    },
    {
      "cell_type": "code",
      "source": [
        "import random\n",
        "print(random.randint(1,10))\n",
        "print(random.choice(['apple','cherry']))"
      ],
      "metadata": {
        "colab": {
          "base_uri": "https://localhost:8080/"
        },
        "id": "EzVJ8GcotAAz",
        "outputId": "09fe202b-7dfb-489b-eae8-502b5891a4e2"
      },
      "execution_count": 4,
      "outputs": [
        {
          "output_type": "stream",
          "name": "stdout",
          "text": [
            "1\n",
            "cherry\n"
          ]
        }
      ]
    },
    {
      "cell_type": "code",
      "source": [
        "### File and directory access\n",
        "import os\n",
        "print(os.getcwd())\n"
      ],
      "metadata": {
        "colab": {
          "base_uri": "https://localhost:8080/"
        },
        "id": "98rsWjgzwZo8",
        "outputId": "a1c384d4-3e1c-4672-e0c1-a40fd4313cae"
      },
      "execution_count": 5,
      "outputs": [
        {
          "output_type": "stream",
          "name": "stdout",
          "text": [
            "/content\n"
          ]
        }
      ]
    },
    {
      "cell_type": "code",
      "source": [
        "import shutil\n",
        "shutil.copyfile('source.txt','destination.txt')"
      ],
      "metadata": {
        "id": "Jv-GxVSRw3X7"
      },
      "execution_count": null,
      "outputs": []
    },
    {
      "cell_type": "code",
      "source": [
        "##Data serialization\n",
        "import json\n",
        "data={'name':'Ayush','age' :19}\n",
        "print(type(data))\n",
        "json_str=json.dumps(data)\n",
        "print(json_str)\n",
        "print(type(json_str))\n",
        "parsed_data=json.loads(json_str)\n",
        "print(parsed_data)\n",
        "print(type(parsed_data))"
      ],
      "metadata": {
        "colab": {
          "base_uri": "https://localhost:8080/"
        },
        "id": "uraZo7sixfJh",
        "outputId": "c796d55c-6133-419f-82a7-a805c9713d46"
      },
      "execution_count": 7,
      "outputs": [
        {
          "output_type": "stream",
          "name": "stdout",
          "text": [
            "<class 'dict'>\n",
            "{\"name\": \"Ayush\", \"age\": 19}\n",
            "<class 'str'>\n",
            "{'name': 'Ayush', 'age': 19}\n",
            "<class 'dict'>\n"
          ]
        }
      ]
    },
    {
      "cell_type": "code",
      "source": [
        "import csv\n",
        "with open('example.csv','w',newline='')as file:\n",
        "  writer=csv.writer(file)\n",
        "  writer.writerow(['name','age'])\n",
        "  writer.writerow(['Ayush','20'])\n",
        "\n",
        "with open('example.csv','r')as file:\n",
        "  reader=csv.reader(file)\n",
        "  for row in reader:\n",
        "    print(row)\n"
      ],
      "metadata": {
        "colab": {
          "base_uri": "https://localhost:8080/"
        },
        "id": "QuO5iUmdyF2w",
        "outputId": "2c7b5659-d75b-4aba-9381-a4a770908d65"
      },
      "execution_count": 9,
      "outputs": [
        {
          "output_type": "stream",
          "name": "stdout",
          "text": [
            "['name', 'age']\n",
            "['Ayush', '20']\n"
          ]
        }
      ]
    },
    {
      "cell_type": "code",
      "source": [
        "##  DATETIME\n",
        "from datetime import datetime , timedelta\n",
        "now=datetime.now()\n",
        "print(now)\n",
        "yesterday=now-timedelta(days=1)\n",
        "print(yesterday)\n"
      ],
      "metadata": {
        "colab": {
          "base_uri": "https://localhost:8080/"
        },
        "id": "2Z9wg1f50Xkq",
        "outputId": "963f688a-d01e-4431-cfd4-edec91f06778"
      },
      "execution_count": 12,
      "outputs": [
        {
          "output_type": "stream",
          "name": "stdout",
          "text": [
            "2025-01-06 18:21:30.494231\n",
            "2025-01-05 18:21:30.494231\n"
          ]
        }
      ]
    },
    {
      "cell_type": "code",
      "source": [
        "##time\n",
        "import time\n",
        "print(time.time())\n",
        "time.sleep(2)\n",
        "print(time.time())\n"
      ],
      "metadata": {
        "colab": {
          "base_uri": "https://localhost:8080/"
        },
        "id": "MrOKq6HO2L5B",
        "outputId": "4746e4aa-88e8-478d-9de7-e0c185d0cefb"
      },
      "execution_count": 13,
      "outputs": [
        {
          "output_type": "stream",
          "name": "stdout",
          "text": [
            "1736187779.5821958\n",
            "1736187781.584247\n"
          ]
        }
      ]
    },
    {
      "cell_type": "code",
      "source": [
        "##"
      ],
      "metadata": {
        "id": "S1m9tCKT2xVW"
      },
      "execution_count": null,
      "outputs": []
    }
  ]
}